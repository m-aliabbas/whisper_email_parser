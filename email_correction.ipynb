{
  "nbformat": 4,
  "nbformat_minor": 0,
  "metadata": {
    "colab": {
      "private_outputs": true,
      "provenance": []
    },
    "kernelspec": {
      "name": "python3",
      "display_name": "Python 3"
    },
    "language_info": {
      "name": "python"
    }
  },
  "cells": [
    {
      "cell_type": "markdown",
      "source": [
        "Installing word2number library\n"
      ],
      "metadata": {
        "id": "q4inbyREtQHQ"
      }
    },
    {
      "cell_type": "code",
      "source": [
        "!pip install word2number"
      ],
      "metadata": {
        "id": "zGtSQQRBqsQ5"
      },
      "execution_count": null,
      "outputs": []
    },
    {
      "cell_type": "markdown",
      "source": [
        "Importing things"
      ],
      "metadata": {
        "id": "cBfazX9JtU-v"
      }
    },
    {
      "cell_type": "code",
      "source": [
        "import re\n",
        "from word2number import w2n  # Import the word2number library"
      ],
      "metadata": {
        "id": "4HBEKS4nrR1V"
      },
      "execution_count": null,
      "outputs": []
    },
    {
      "cell_type": "markdown",
      "source": [
        "Function to concat numbers like\n",
        "**hello my email address is maliaas3 66@gmail.com**\n"
      ],
      "metadata": {
        "id": "n6-ld6g7tZOV"
      }
    },
    {
      "cell_type": "code",
      "source": [
        "def concat_words_with_numbers(line):\n",
        "    # Initialize a new list to store the result\n",
        "    words = line.split()\n",
        "    result = []\n",
        "    # Initialize a variable to keep track of the index of the current word\n",
        "    i = 0\n",
        "    while i < len(words) - 1:  # Loop through the words list\n",
        "        # Check if the last character of the current word and the first character of the next word are both digits\n",
        "        if words[i][-1].isdigit() and words[i+1][0].isdigit():\n",
        "            # Concatenate current and next word if condition is met\n",
        "            result.append(words[i] + words[i+1])\n",
        "            i += 2  # Skip the next word since it has been concatenated with the current one\n",
        "        else:\n",
        "            # Add the current word to the result if it does not meet the condition\n",
        "            result.append(words[i])\n",
        "            i += 1\n",
        "    # Check if the last word was processed, if not, add it to the result\n",
        "    if i == len(words) - 1:\n",
        "        result.append(words[-1])\n",
        "    return ' '.join(result)"
      ],
      "metadata": {
        "id": "BuzObR0GlZou"
      },
      "execution_count": null,
      "outputs": []
    },
    {
      "cell_type": "code",
      "source": [
        "concat_words_with_numbers('hello my email address is maliaas3 66@gmail.com')"
      ],
      "metadata": {
        "id": "P-asy18Rl7_P"
      },
      "execution_count": null,
      "outputs": []
    },
    {
      "cell_type": "markdown",
      "source": [
        "Extract Email address from a line ; It will help in parsing address having spaces\n"
      ],
      "metadata": {
        "id": "AcT95I8vtkjR"
      }
    },
    {
      "cell_type": "code",
      "source": [
        "def extract_email(text, domain_suffixes):\n",
        "    # Find the starting index right after \"is\"\n",
        "    if 'is' in text:\n",
        "      start_index = text.find(\"is \") + 3\n",
        "    elif 'address' in text :\n",
        "      start_index = text.find(\"address \") + 8\n",
        "    elif 'email' in text:\n",
        "      start_index = text.find(\"email \") + 6\n",
        "    else:\n",
        "      start_index = 0\n",
        "    # Find the ending index based on domain suffixes\n",
        "    end_index = len(text)  # Default to the end of the text\n",
        "    for suffix in domain_suffixes:\n",
        "        temp_index = text.find(suffix)\n",
        "        if temp_index != -1:\n",
        "            end_index = min(end_index, temp_index + len(suffix))\n",
        "            break  # Stop at the first match\n",
        "\n",
        "    # Extract the raw email parts\n",
        "    raw_email_parts = text[start_index:end_index]\n",
        "\n",
        "    # Clean and concatenate the email parts\n",
        "    email_address = raw_email_parts.replace(\" \", \"\")\n",
        "\n",
        "    return email_address\n",
        "\n",
        "# Example text\n",
        "text = \"my email mali a bb a s 366@gmail.com\"\n",
        "\n",
        "# Call the function with domain suffixes to look for\n",
        "email_address = extract_email(text, [\".com\", \".org\"])\n",
        "\n",
        "print(email_address)\n"
      ],
      "metadata": {
        "id": "Dig-CIyhp3Ey"
      },
      "execution_count": null,
      "outputs": []
    },
    {
      "cell_type": "markdown",
      "source": [
        "Main Email Parser from transcript; It is running on examples I have seen in transcripts\n"
      ],
      "metadata": {
        "id": "dXwO0Et4tw6q"
      }
    },
    {
      "cell_type": "code",
      "source": [
        "import re\n",
        "from word2number import w2n\n",
        "\n",
        "def convert_to_email_format(line):\n",
        "    # Step to remove hyphens used in the email address format without affecting the numeric sequences\n",
        "    line = re.sub(r'(?<=\\w)-(?=\\w)', '', line)\n",
        "    # Normalize spacing and remove extra characters\n",
        "    line = re.sub(r'\\s+', ' ', line).replace(',', '')\n",
        "\n",
        "    # Step 1: Convert number words to digits\n",
        "    def word_to_num(match):\n",
        "        word = match.group()\n",
        "        try:\n",
        "            return str(w2n.word_to_num(word))\n",
        "        except ValueError:\n",
        "            return word  # Return the original word if it's not a number word\n",
        "\n",
        "    line = re.sub(r'\\b(one|two|three|four|five|six|seven|eight|nine|zero)\\b', word_to_num, line, flags=re.IGNORECASE)\n",
        "\n",
        "    # Step 2: Handle \"double\" and \"triple\" for digits\n",
        "    def handle_repetitions(match):\n",
        "        rep_type, char = match.groups()\n",
        "        count = 2 if rep_type == 'double' else 3\n",
        "        if char.isdigit():\n",
        "            return char * count\n",
        "        else:\n",
        "            # Convert word to number if needed and repeat\n",
        "            try:\n",
        "                number = w2n.word_to_num(char.lower())\n",
        "                return str(number) * count\n",
        "            except ValueError:\n",
        "                return char * count\n",
        "\n",
        "    # This pattern matches \"double\" or \"triple\" followed by either a digit or a word that can be a number\n",
        "    line = re.sub(r'(double|triple) (\\w+)', handle_repetitions, line, flags=re.IGNORECASE)\n",
        "\n",
        "    # Step 3: Format email address\n",
        "    line = re.sub(r'\\b at \\b', '@', line, flags=re.IGNORECASE)\n",
        "    line = re.sub(r'\\b dot \\b', '.', line, flags=re.IGNORECASE)\n",
        "    line = re.sub(r'\\s*@\\s*', '@', line)\n",
        "    line = re.sub(r'\\s*\\.\\s*', '.', line)\n",
        "\n",
        "    # Condense multiple consecutive spaces into a single space globally\n",
        "    line = re.sub(r'\\s+', ' ', line)\n",
        "    line = concat_words_with_numbers(line)\n",
        "    line = extract_email(line, [\".com\", \".org\"])\n",
        "    return line\n",
        "\n",
        "cases = ['hello my email address is maliaas3 66@gmail.com','my email address is mali, a double b a s three double six at gmail.com',\n",
        "         'My email address is maliabbas3 double six at gmail dot com',\n",
        "    'my email address is m-a-l-i-a-b-b-a-s-3-6 at gmail.com',\n",
        "    'hello my email address is maliaas3 66 at gmail.com',\n",
        "         'my email address is vines420 at gmail.com',\n",
        "         ' my email address is malifourdouble2 at gmail.com',' my email address is vynz420 at gmid.com',\n",
        "         'my email address is mali366 at gmail.com',\n",
        "         ' my email address is mali366 at gmail.com']\n",
        "\n",
        "for input_line in cases:\n",
        "  output_line = convert_to_email_format(input_line)\n",
        "  print(\"Input Line:\", input_line)\n",
        "  print(\"Output Line:\", output_line)\n"
      ],
      "metadata": {
        "id": "_o346c7RrYsW"
      },
      "execution_count": null,
      "outputs": []
    },
    {
      "cell_type": "code",
      "source": [],
      "metadata": {
        "id": "x7cE8sxJstuG"
      },
      "execution_count": null,
      "outputs": []
    }
  ]
}